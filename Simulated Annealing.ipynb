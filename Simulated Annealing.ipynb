{
 "cells": [
  {
   "cell_type": "code",
   "execution_count": 1,
   "metadata": {
    "collapsed": true
   },
   "outputs": [],
   "source": [
    "import os\n",
    "import numpy as ny\n",
    "from numpy import *\n",
    "from collections import Counter\n",
    "import matplotlib.pyplot as plt\n",
    "%matplotlib inline\n",
    "from sklearn import datasets"
   ]
  },
  {
   "cell_type": "markdown",
   "metadata": {},
   "source": [
    "Contour Plot - RosenBrock Function"
   ]
  },
  {
   "cell_type": "code",
   "execution_count": 25,
   "metadata": {},
   "outputs": [],
   "source": [
    "def contour_plot_rosenbrock(x_lim,y_lim,step):\n",
    "    s = step\n",
    "    x = ny.arange(-x_lim, x_lim, s)\n",
    "    #print(x)\n",
    "    y = ny.arange(-y_lim, y_lim, s)\n",
    "    X,Y = ny.meshgrid(x,y)\n",
    "    Z = (1-X)**2 + 100*(X**2 - Y)**2\n",
    "    plt.figure(figsize=(8, 6))\n",
    "    cp = plt.contourf(X,Y,Z,ny.logspace(-3, 3, 50))"
   ]
  },
  {
   "cell_type": "code",
   "execution_count": 26,
   "metadata": {},
   "outputs": [
    {
     "data": {
      "image/png": "[encoded data removed]",
      "text/plain": [
       "<matplotlib.figure.Figure at 0x1a1b808048>"
      ]
     },
     "metadata": {},
     "output_type": "display_data"
    }
   ],
   "source": [
    "contour_plot_rosenbrock(3,3,0.01)"
   ]
  },
  {
   "cell_type": "code",
   "execution_count": 27,
   "metadata": {},
   "outputs": [],
   "source": [
    "class SimulaledAnnealing(object):\n",
    "    \n",
    "    def __init__(self,temp, delTemp,freezePoint):\n",
    "        self.temp = temp\n",
    "        self.delTemp= delTemp\n",
    "        self.freezePoint = freezePoint\n",
    "    \n",
    "    def cost(self,x,y):\n",
    "        return 100*(x**2 -y)**2 + ((1-x)**2)\n",
    "\n",
    "    def neighbor(self,n):\n",
    "        y = []\n",
    "        for i in (0,n):\n",
    "            y.append(random.uniform(-2.78,2.78))\n",
    "        return y\n",
    "\n",
    "    def acceptance_probability(self,old_cost,new_cost,T):\n",
    "        return ny.exp((old_cost-new_cost)/T)\n",
    " \n",
    "    def anneal(self,solution):\n",
    "        old_cost = self.cost(solution[0],solution[1])\n",
    "        while self.temp > self.freezePoint:\n",
    "            new_solution = self.neighbor(len(solution))\n",
    "            new_cost = self.cost(new_solution[0],new_solution[1])\n",
    "            if new_cost < old_cost:\n",
    "                solution = new_solution\n",
    "                old_cost = new_cost\n",
    "            else:\n",
    "                ap = self.acceptance_probability(old_cost, new_cost, self.temp)\n",
    "                if ap > 0.5:\n",
    "                    solution = new_solution\n",
    "                    old_cost = new_cost\n",
    "            self.temp = self.temp*self.delTemp\n",
    "        return solution, old_cost\n",
    " \n"
   ]
  },
  {
   "cell_type": "code",
   "execution_count": 28,
   "metadata": {},
   "outputs": [
    {
     "name": "stdout",
     "output_type": "stream",
     "text": [
      "([1.0155049848539295, 1.0204750478343185], 0.011851170520171686)\n"
     ]
    }
   ],
   "source": [
    "san = SimulaledAnnealing(temp = 1100,delTemp = 0.999,freezePoint = 0.0001)\n",
    "init_sol = san.neighbor(2)\n",
    "final_sol = san.anneal(init_sol)\n",
    "print(final_sol)"
   ]
  },
  {
   "cell_type": "code",
   "execution_count": 11,
   "metadata": {},
   "outputs": [
    {
     "data": {
      "text/plain": [
       "array([ 2.])"
      ]
     },
     "execution_count": 11,
     "metadata": {},
     "output_type": "execute_result"
    }
   ],
   "source": []
  },
  {
   "cell_type": "code",
   "execution_count": null,
   "metadata": {
    "collapsed": true
   },
   "outputs": [],
   "source": []
  }
 ],
 "metadata": {
  "celltoolbar": "Raw Cell Format",
  "kernelspec": {
   "display_name": "Python 3",
   "language": "python",
   "name": "python3"
  },
  "language_info": {
   "codemirror_mode": {
    "name": "ipython",
    "version": 3
   },
   "file_extension": ".py",
   "mimetype": "text/x-python",
   "name": "python",
   "nbconvert_exporter": "python",
   "pygments_lexer": "ipython3",
   "version": "3.6.2"
  }
 },
 "nbformat": 4,
 "nbformat_minor": 1
}
