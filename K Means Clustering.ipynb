{
 "cells": [
  {
   "cell_type": "code",
   "execution_count": 11,
   "metadata": {
    "collapsed": true
   },
   "outputs": [],
   "source": [
    "import numpy as ny\n",
    "from numpy import *\n",
    "from collections import Counter\n",
    "import matplotlib.pyplot as plt\n",
    "%matplotlib inline\n",
    "from sklearn import datasets\n",
    "from sklearn.preprocessing import MinMaxScaler # required to Z transform the data\n",
    "\n",
    "iris = datasets.load_iris()"
   ]
  },
  {
   "cell_type": "code",
   "execution_count": 12,
   "metadata": {
    "collapsed": true
   },
   "outputs": [],
   "source": [
    "data = iris[\"data\"][:,:2] # slicing the dataset to get only the first two cols\n",
    "norm_data = MinMaxScaler().fit_transform(data)   # normalising the data"
   ]
  },
  {
   "cell_type": "code",
   "execution_count": 13,
   "metadata": {
    "scrolled": true
   },
   "outputs": [
    {
     "name": "stdout",
     "output_type": "stream",
     "text": [
      "150 2\n"
     ]
    }
   ],
   "source": [
    "N, M = norm_data.shape\n",
    "print(N,M)"
   ]
  },
  {
   "cell_type": "code",
   "execution_count": 23,
   "metadata": {},
   "outputs": [],
   "source": [
    "class KMeans(object):\n",
    "    def __init__(self,K,gens,N,M):\n",
    "        self.K = K\n",
    "        self.gens = gens\n",
    "        self.rows = N\n",
    "        self.cols = M\n",
    "        self.assgns = ny.zeros((1, N))\n",
    "        self.centers = ny.random.random((K, M))\n",
    "        \n",
    "    def classify(self):\n",
    "        for gen in ny.arange(self.gens):\n",
    "            for p in ny.arange(self.rows):\n",
    "                dists = ny.zeros((1, self.K))\n",
    "                for c in ny.arange(K):\n",
    "                    dists[0,c] = ny.sqrt(ny.sum((norm_data[p,:] - self.centers[c,:])**2))\n",
    "                locs = ny.argsort(dists)\n",
    "                self.assgns[0, p] = locs[0,0]\n",
    "            #update centers\n",
    "            for c in ny.arange(self.K):\n",
    "                bins=ny.where(self.assgns == c)\n",
    "                #print(\"Locs in update\",bins[1])\n",
    "                if len(bins[1])==0:\n",
    "                    self.centers[c,:] = ny.mean(centers)\n",
    "                else:\n",
    "                    self.centers[c, :] = ny.mean(norm_data[bins[1],:])\n",
    "                \n",
    "    def plot_result(self):\n",
    "        for c in ny.arange(self.K):\n",
    "            bins=ny.where(self.assgns == c)\n",
    "            if c == 0:\n",
    "                plt.scatter(norm_data[bins[1],0] ,norm_data[bins[1],1],marker='^',color = \"red\")\n",
    "            elif c==1:\n",
    "                plt.scatter(norm_data[bins[1],0],norm_data[bins[1],1],marker='*',color = \"green\")\n",
    "            else:\n",
    "                plt.scatter(norm_data[bins[1],0],norm_data[bins[1],1],marker='h',color = \"black\")"
   ]
  },
  {
   "cell_type": "code",
   "execution_count": 28,
   "metadata": {},
   "outputs": [
    {
     "data": {
      "image/png": "[encoded data removed]",
      "text/plain": [
       "<matplotlib.figure.Figure at 0x10daaf710>"
      ]
     },
     "metadata": {},
     "output_type": "display_data"
    }
   ],
   "source": [
    "kmeans = KMeans(K= 3,gens = 50,N=N,M=M)\n",
    "kmeans.classify()\n",
    "kmeans.plot_result()"
   ]
  },
  {
   "cell_type": "code",
   "execution_count": null,
   "metadata": {
    "collapsed": true
   },
   "outputs": [],
   "source": []
  }
 ],
 "metadata": {
  "anaconda-cloud": {},
  "kernelspec": {
   "display_name": "Python 3",
   "language": "python",
   "name": "python3"
  },
  "language_info": {
   "codemirror_mode": {
    "name": "ipython",
    "version": 3
   },
   "file_extension": ".py",
   "mimetype": "text/x-python",
   "name": "python",
   "nbconvert_exporter": "python",
   "pygments_lexer": "ipython3",
   "version": "3.6.2"
  }
 },
 "nbformat": 4,
 "nbformat_minor": 1
}
