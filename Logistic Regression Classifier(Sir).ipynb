{
 "cells": [
  {
   "cell_type": "code",
   "execution_count": 3,
   "metadata": {},
   "outputs": [],
   "source": [
    "from sklearn.datasets import load_iris\n",
    "import numpy as ny\n",
    "import matplotlib.pyplot as plt\n",
    "from sklearn.preprocessing import StandardScaler\n",
    "from sklearn.cross_validation import train_test_split\n",
    "#%matplotlib inline"
   ]
  },
  {
   "cell_type": "code",
   "execution_count": 4,
   "metadata": {},
   "outputs": [],
   "source": [
    "iris = load_iris()\n",
    "data = iris[\"data\"][:,:2]\n",
    "labels = iris[\"target\"]\n",
    "#data"
   ]
  },
  {
   "cell_type": "code",
   "execution_count": 63,
   "metadata": {},
   "outputs": [
    {
     "name": "stdout",
     "output_type": "stream",
     "text": [
      "(150, 2)\n"
     ]
    }
   ],
   "source": [
    "N, M = data.shape\n",
    "print(N, M)"
   ]
  },
  {
   "cell_type": "code",
   "execution_count": 64,
   "metadata": {
    "collapsed": true
   },
   "outputs": [],
   "source": [
    "Y = labels.reshape((N, 1))\n",
    "Y = ny.array(Y==2).astype(int)\n",
    "#Y"
   ]
  },
  {
   "cell_type": "code",
   "execution_count": 65,
   "metadata": {
    "collapsed": true
   },
   "outputs": [],
   "source": [
    "X = StandardScaler().fit_transform(data)"
   ]
  },
  {
   "cell_type": "code",
   "execution_count": 66,
   "metadata": {
    "collapsed": true
   },
   "outputs": [],
   "source": [
    "X = X.T"
   ]
  },
  {
   "cell_type": "code",
   "execution_count": 67,
   "metadata": {
    "collapsed": true
   },
   "outputs": [],
   "source": [
    "bias = ny.ones((1, N))"
   ]
  },
  {
   "cell_type": "code",
   "execution_count": 68,
   "metadata": {
    "collapsed": true
   },
   "outputs": [],
   "source": [
    "XB = ny.vstack((bias, X))"
   ]
  },
  {
   "cell_type": "code",
   "execution_count": 69,
   "metadata": {
    "collapsed": true
   },
   "outputs": [],
   "source": [
    "class LogisitcRegression:\n",
    "    def __init__(self, alpha, gens):\n",
    "        self.alpha = alpha\n",
    "        self.gens = gens\n",
    "    def sigmoid(self, x):\n",
    "        return 1.0/(1+ny.exp(-x))\n",
    "    def prediction(self):\n",
    "        return self.sigmoid(self.weights.T.dot(self.X).T)\n",
    "    def calculatePenalty(self):\n",
    "        self.H = self.prediction()\n",
    "        component1 = ny.sum(self.y*ny.log(self.H))\n",
    "        component2 = ny.sum((1-self.y)*ny.log(1-self.H))\n",
    "        return -ny.sum(component1 + component2)/self.N\n",
    "    def updateWeights(self):\n",
    "        nabla = self.alpha*((self.y - self.H).T.dot(self.X.T).T)\n",
    "        #print(nabla)\n",
    "        self.weights += nabla\n",
    "    def fit(self, X, y):\n",
    "        self.X = X\n",
    "        self.y = y\n",
    "        self.M, self.N = X.shape\n",
    "        self.weights = ny.zeros((self.M, 1))\n",
    "        #self.H = self.predict()\n",
    "        #print(H)  \n",
    "        #J = self.calculatePenalty()\n",
    "        #print(J)\n",
    "        #self.updateWeights()\n",
    "        #print(self.weights)\n",
    "        self.buffer = []\n",
    "        for g in ny.arange(self.gens):\n",
    "            self.buffer.append(self.calculatePenalty())\n",
    "            #print(self.calculatePenalty())\n",
    "            self.updateWeights()   \n",
    "            #print(self.weights)\n",
    "    def plotErrorCurve(self):\n",
    "        plt.plot(ny.array(self.buffer))\n",
    "    def predict(self, t):\n",
    "        return self.weights.T.dot(t)>=0.5\n",
    "    def getWeights(self):\n",
    "        return self.weights"
   ]
  },
  {
   "cell_type": "code",
   "execution_count": 70,
   "metadata": {
    "collapsed": true
   },
   "outputs": [],
   "source": [
    "clf = LogisitcRegression(alpha=0.001, gens=5000)"
   ]
  },
  {
   "cell_type": "code",
   "execution_count": 71,
   "metadata": {
    "collapsed": true
   },
   "outputs": [],
   "source": [
    "clf.fit(XB, Y)"
   ]
  },
  {
   "cell_type": "code",
   "execution_count": 72,
   "metadata": {
    "collapsed": true
   },
   "outputs": [],
   "source": [
    "clf.plotErrorCurve()"
   ]
  },
  {
   "cell_type": "code",
   "execution_count": 73,
   "metadata": {
    "collapsed": true
   },
   "outputs": [],
   "source": [
    "predictions = []\n",
    "for i in ny.arange(XB.shape[1]):\n",
    "    predictions.append(clf.predict(XB[:,i]))"
   ]
  },
  {
   "cell_type": "code",
   "execution_count": 74,
   "metadata": {},
   "outputs": [
    {
     "name": "stdout",
     "output_type": "stream",
     "text": [
      "[0 0 0 0 0 0 0 0 0 0 0 0 0 0 0 0 0 0 0 0 0 0 0 0 0 0 0 0 0 0 0 0 0 0 0 0 0\n",
      " 0 0 0 0 0 0 0 0 0 0 0 0 0 1 0 1 0 1 0 0 0 1 0 0 0 0 0 0 1 0 0 0 0 0 0 0 0\n",
      " 0 1 1 1 0 0 0 0 0 0 0 0 1 0 0 0 0 0 0 0 0 0 0 0 0 0 0 0 1 0 0 1 0 1 1 1 0\n",
      " 0 1 0 0 0 0 1 1 0 1 0 1 0 1 1 0 0 0 1 1 1 0 0 0 1 0 0 0 1 1 1 0 1 1 1 0 0\n",
      " 0 0]\n"
     ]
    }
   ],
   "source": [
    "print(ny.array(predictions).flatten().astype(int))"
   ]
  },
  {
   "cell_type": "code",
   "execution_count": 75,
   "metadata": {
    "collapsed": true
   },
   "outputs": [],
   "source": [
    "from sklearn.metrics import accuracy_score"
   ]
  },
  {
   "cell_type": "code",
   "execution_count": 76,
   "metadata": {
    "collapsed": true
   },
   "outputs": [],
   "source": [
    "score = accuracy_score(Y, predictions)"
   ]
  },
  {
   "cell_type": "code",
   "execution_count": 77,
   "metadata": {},
   "outputs": [
    {
     "name": "stdout",
     "output_type": "stream",
     "text": [
      "0.753333333333\n"
     ]
    }
   ],
   "source": [
    "print(score)"
   ]
  },
  {
   "cell_type": "code",
   "execution_count": 78,
   "metadata": {
    "collapsed": true
   },
   "outputs": [],
   "source": [
    "X = X.T"
   ]
  },
  {
   "cell_type": "code",
   "execution_count": 79,
   "metadata": {},
   "outputs": [
    {
     "name": "stdout",
     "output_type": "stream",
     "text": [
      "[ -1.87002413e+00  -1.78100284e+00  -1.69198155e+00  -1.60296026e+00\n",
      "  -1.51393896e+00  -1.42491767e+00  -1.33589638e+00  -1.24687509e+00\n",
      "  -1.15785379e+00  -1.06883250e+00  -9.79811208e-01  -8.90789916e-01\n",
      "  -8.01768623e-01  -7.12747330e-01  -6.23726038e-01  -5.34704745e-01\n",
      "  -4.45683453e-01  -3.56662160e-01  -2.67640868e-01  -1.78619575e-01\n",
      "  -8.95982824e-02  -5.76989859e-04   8.84443027e-02   1.77465595e-01\n",
      "   2.66486888e-01   3.55508180e-01   4.44529473e-01   5.33550766e-01\n",
      "   6.22572058e-01   7.11593351e-01   8.00614643e-01   8.89635936e-01\n",
      "   9.78657228e-01   1.06767852e+00   1.15669981e+00   1.24572111e+00\n",
      "   1.33474240e+00   1.42376369e+00   1.51278498e+00   1.60180628e+00\n",
      "   1.69082757e+00   1.77984886e+00   1.86887015e+00   1.95789145e+00\n",
      "   2.04691274e+00   2.13593403e+00   2.22495532e+00   2.31397662e+00\n",
      "   2.40299791e+00   2.49201920e+00]\n"
     ]
    }
   ],
   "source": [
    "#print(X.shape)\n",
    "ax1_min, ax1_max = X[:,0].min(), X[:,0].max()\n",
    "ax = ny.linspace(ax1_min, ax1_max, 50)\n",
    "print(ax)"
   ]
  },
  {
   "cell_type": "code",
   "execution_count": 83,
   "metadata": {
    "scrolled": true
   },
   "outputs": [
    {
     "data": {
      "image/png": "[encoded data removed]",
      "text/plain": [
       "<matplotlib.figure.Figure at 0x7fb8fccd7950>"
      ]
     },
     "metadata": {},
     "output_type": "display_data"
    }
   ],
   "source": [
    "markers = ['*','^']\n",
    "colours = ['red', 'black']\n",
    "#for i in ny.arange(len(markers)):\n",
    "    #plt.scatter(X[Y[:,0]==i, 0], X[Y[:,0]==i,1], marker=markers[i])\n",
    "W = clf.getWeights()\n",
    "line_vals = ny.zeros((50, 1))\n",
    "plt.plot(ax, line_vals,'k', linewidth=2)\n",
    "plt.show()    "
   ]
  },
  {
   "cell_type": "code",
   "execution_count": 81,
   "metadata": {
    "scrolled": true
   },
   "outputs": [
    {
     "data": {
      "image/png": "[encoded data removed]",
      "text/plain": [
       "<matplotlib.figure.Figure at 0x7fb8fce0f890>"
      ]
     },
     "metadata": {},
     "output_type": "display_data"
    }
   ],
   "source": [
    "markers = ['*','^']\n",
    "colours = ['red', 'black']\n",
    "for i in ny.arange(len(markers)):\n",
    "    plt.scatter(X[Y[:,0]==i, 0], X[Y[:,0]==i,1], marker=markers[i])\n",
    "W = clf.getWeights()\n",
    "line_vals = -(W[0,0]+W[1,0]*ax)/W[2,0]\n",
    "plt.plot(ax, line_vals,'k', linewidth=2)\n",
    "plt.show()    "
   ]
  },
  {
   "cell_type": "code",
   "execution_count": null,
   "metadata": {
    "collapsed": true
   },
   "outputs": [],
   "source": []
  }
 ],
 "metadata": {
  "kernelspec": {
   "display_name": "Python 3",
   "language": "python",
   "name": "python3"
  },
  "language_info": {
   "codemirror_mode": {
    "name": "ipython",
    "version": 3
   },
   "file_extension": ".py",
   "mimetype": "text/x-python",
   "name": "python",
   "nbconvert_exporter": "python",
   "pygments_lexer": "ipython3",
   "version": "3.6.2"
  }
 },
 "nbformat": 4,
 "nbformat_minor": 2
}
