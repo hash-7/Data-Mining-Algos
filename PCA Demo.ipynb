{
 "cells": [
  {
   "cell_type": "code",
   "execution_count": 13,
   "metadata": {
    "collapsed": true
   },
   "outputs": [],
   "source": [
    "from sklearn.datasets import load_iris\n",
    "import numpy as ny\n",
    "import matplotlib.pyplot as plt\n",
    "from scipy.linalg import eig\n",
    "%matplotlib inline"
   ]
  },
  {
   "cell_type": "code",
   "execution_count": 15,
   "metadata": {},
   "outputs": [],
   "source": [
    "iris = load_iris()\n",
    "data = iris[\"data\"]\n",
    "labels = iris[\"target\"]\n",
    "means = ny.mean(data, axis=0)\n",
    "rep_means = ny.tile(means, (data.shape[0], 1))\n",
    "norm_data = data - rep_means"
   ]
  },
  {
   "cell_type": "code",
   "execution_count": 4,
   "metadata": {},
   "outputs": [
    {
     "name": "stdout",
     "output_type": "stream",
     "text": [
      "[[ 0.68569351 -0.03926846  1.27368233  0.5169038 ]\n",
      " [-0.03926846  0.18800403 -0.32171275 -0.11798121]\n",
      " [ 1.27368233 -0.32171275  3.11317942  1.29638747]\n",
      " [ 0.5169038  -0.11798121  1.29638747  0.58241432]]\n"
     ]
    }
   ],
   "source": [
    "cov_mtx = ny.cov(norm_data, rowvar=False)\n",
    "print(cov_mtx)"
   ]
  },
  {
   "cell_type": "code",
   "execution_count": 6,
   "metadata": {
    "collapsed": true
   },
   "outputs": [],
   "source": [
    "V, D = eig(cov_mtx)"
   ]
  },
  {
   "cell_type": "code",
   "execution_count": 7,
   "metadata": {
    "collapsed": true
   },
   "outputs": [],
   "source": [
    "D[2:, :] = 0"
   ]
  },
  {
   "cell_type": "code",
   "execution_count": 18,
   "metadata": {},
   "outputs": [
    {
     "name": "stdout",
     "output_type": "stream",
     "text": [
      "[[  4.91948928e-01  -1.34738775e+00   0.00000000e+00   0.00000000e+00]\n",
      " [  7.47900934e-01  -9.66077783e-01   0.00000000e+00   0.00000000e+00]\n",
      " [  6.02374750e-01  -1.15520829e+00   0.00000000e+00   0.00000000e+00]\n",
      " [  5.15670315e-01  -9.54726544e-01   0.00000000e+00   0.00000000e+00]\n",
      " [  3.90135972e-01  -1.41213209e+00   0.00000000e+00   0.00000000e+00]\n",
      " [  2.26961604e-01  -1.54984681e+00   0.00000000e+00   0.00000000e+00]\n",
      " [  4.08533532e-01  -1.26569150e+00   0.00000000e+00   0.00000000e+00]\n",
      " [  4.63344221e-01  -1.20654781e+00   0.00000000e+00   0.00000000e+00]\n",
      " [  6.32760084e-01  -8.51972101e-01   0.00000000e+00   0.00000000e+00]\n",
      " [  5.92421763e-01  -9.46997776e-01   0.00000000e+00   0.00000000e+00]\n",
      " [  4.11018127e-01  -1.45836908e+00   0.00000000e+00   0.00000000e+00]\n",
      " [  3.32926557e-01  -1.13045222e+00   0.00000000e+00   0.00000000e+00]\n",
      " [  6.80016512e-01  -9.25441458e-01   0.00000000e+00   0.00000000e+00]\n",
      " [  6.73520857e-01  -1.06323244e+00   0.00000000e+00   0.00000000e+00]\n",
      " [  5.32991217e-01  -1.88911577e+00   0.00000000e+00   0.00000000e+00]\n",
      " [  1.23368021e-01  -2.05866728e+00   0.00000000e+00   0.00000000e+00]\n",
      " [  4.59360515e-01  -1.78841404e+00   0.00000000e+00   0.00000000e+00]\n",
      " [  5.23674383e-01  -1.37979718e+00   0.00000000e+00   0.00000000e+00]\n",
      " [  3.69367040e-01  -1.46914680e+00   0.00000000e+00   0.00000000e+00]\n",
      " [  2.68612690e-01  -1.53906908e+00   0.00000000e+00   0.00000000e+00]\n",
      " [  4.91780636e-01  -1.12017175e+00   0.00000000e+00   0.00000000e+00]\n",
      " [  3.65992133e-01  -1.49850728e+00   0.00000000e+00   0.00000000e+00]\n",
      " [  4.77899013e-01  -1.61779177e+00   0.00000000e+00   0.00000000e+00]\n",
      " [  5.44134085e-01  -1.11974815e+00   0.00000000e+00   0.00000000e+00]\n",
      " [  1.58627373e-01  -9.51526798e-01   0.00000000e+00   0.00000000e+00]\n",
      " [  6.67860446e-01  -8.55021054e-01   0.00000000e+00   0.00000000e+00]\n",
      " [  4.68695402e-01  -1.21172487e+00   0.00000000e+00   0.00000000e+00]\n",
      " [  4.70008168e-01  -1.29597283e+00   0.00000000e+00   0.00000000e+00]\n",
      " [  5.93761884e-01  -1.28264340e+00   0.00000000e+00   0.00000000e+00]\n",
      " [  4.28075566e-01  -9.76282861e-01   0.00000000e+00   0.00000000e+00]\n",
      " [  5.29888522e-01  -9.11538513e-01   0.00000000e+00   0.00000000e+00]\n",
      " [  6.71431001e-01  -1.30427424e+00   0.00000000e+00   0.00000000e+00]\n",
      " [  4.43587832e-02  -1.70139081e+00   0.00000000e+00   0.00000000e+00]\n",
      " [  1.77006881e-01  -1.89109396e+00   0.00000000e+00   0.00000000e+00]\n",
      " [  5.92421763e-01  -9.46997776e-01   0.00000000e+00   0.00000000e+00]\n",
      " [  7.68951381e-01  -1.23953076e+00   0.00000000e+00   0.00000000e+00]\n",
      " [  6.94684527e-01  -1.43993711e+00   0.00000000e+00   0.00000000e+00]\n",
      " [  5.92421763e-01  -9.46997776e-01   0.00000000e+00   0.00000000e+00]\n",
      " [  6.25205824e-01  -9.84585146e-01   0.00000000e+00   0.00000000e+00]\n",
      " [  4.99503188e-01  -1.21477470e+00   0.00000000e+00   0.00000000e+00]\n",
      " [  5.45615143e-01  -1.43121210e+00   0.00000000e+00   0.00000000e+00]\n",
      " [  1.15266816e+00  -5.14422811e-01   0.00000000e+00   0.00000000e+00]\n",
      " [  4.93897847e-01  -1.13052762e+00   0.00000000e+00   0.00000000e+00]\n",
      " [  4.66492323e-01  -1.34951498e+00   0.00000000e+00   0.00000000e+00]\n",
      " [  6.79392326e-02  -1.33291128e+00   0.00000000e+00   0.00000000e+00]\n",
      " [  7.43467421e-01  -9.90260329e-01   0.00000000e+00   0.00000000e+00]\n",
      " [  1.78787507e-01  -1.44701784e+00   0.00000000e+00   0.00000000e+00]\n",
      " [  5.08116054e-01  -1.08733959e+00   0.00000000e+00   0.00000000e+00]\n",
      " [  3.74859159e-01  -1.45014219e+00   0.00000000e+00   0.00000000e+00]\n",
      " [  5.87097937e-01  -1.19321838e+00   0.00000000e+00   0.00000000e+00]\n",
      " [ -1.60654287e-01   2.94481542e-01   0.00000000e+00   0.00000000e+00]\n",
      " [ -2.29683182e-01   1.92149823e-01   0.00000000e+00   0.00000000e+00]\n",
      " [ -2.15633267e-01   4.62553850e-01   0.00000000e+00   0.00000000e+00]\n",
      " [  2.62819733e-01   6.89542784e-01   0.00000000e+00   0.00000000e+00]\n",
      " [  1.09920106e-02   5.35449691e-01   0.00000000e+00   0.00000000e+00]\n",
      " [ -2.83630913e-01   6.06441865e-01   0.00000000e+00   0.00000000e+00]\n",
      " [ -4.15970140e-01   2.14279657e-01   0.00000000e+00   0.00000000e+00]\n",
      " [  2.91733670e-01   3.45668525e-01   0.00000000e+00   0.00000000e+00]\n",
      " [ -8.19539194e-02   5.19070435e-01   0.00000000e+00   0.00000000e+00]\n",
      " [ -1.84479405e-02   3.30287259e-01   0.00000000e+00   0.00000000e+00]\n",
      " [  4.74309135e-01   7.48610202e-01   0.00000000e+00   0.00000000e+00]\n",
      " [ -1.04870861e-01   2.00301316e-01   0.00000000e+00   0.00000000e+00]\n",
      " [  4.14092196e-01   8.18607882e-01   0.00000000e+00   0.00000000e+00]\n",
      " [ -2.89123031e-01   5.87437254e-01   0.00000000e+00   0.00000000e+00]\n",
      " [  1.37453683e-01   4.92123739e-03   0.00000000e+00   0.00000000e+00]\n",
      " [ -2.91780176e-02   2.13208019e-01   0.00000000e+00   0.00000000e+00]\n",
      " [ -3.87646948e-01   4.03907409e-01   0.00000000e+00   0.00000000e+00]\n",
      " [ -4.45954089e-02   5.29847283e-01   0.00000000e+00   0.00000000e+00]\n",
      " [  3.54538765e-01   9.38315972e-01   0.00000000e+00   0.00000000e+00]\n",
      " [  1.62319543e-01   5.40550483e-01   0.00000000e+00   0.00000000e+00]\n",
      " [ -4.89600841e-01   3.14981388e-01   0.00000000e+00   0.00000000e+00]\n",
      " [  1.51503598e-01   2.75325265e-01   0.00000000e+00   0.00000000e+00]\n",
      " [ -3.86631438e-02   9.49742607e-01   0.00000000e+00   0.00000000e+00]\n",
      " [ -2.86919952e-01   7.25227362e-01   0.00000000e+00   0.00000000e+00]\n",
      " [  2.00273291e-02   3.56598787e-01   0.00000000e+00   0.00000000e+00]\n",
      " [  3.17002950e-04   2.94406145e-01   0.00000000e+00   0.00000000e+00]\n",
      " [ -2.84559968e-02   6.62462077e-01   0.00000000e+00   0.00000000e+00]\n",
      " [ -2.16946033e-01   5.46801804e-01   0.00000000e+00   0.00000000e+00]\n",
      " [ -1.77357088e-01   4.43971090e-01   0.00000000e+00   0.00000000e+00]\n",
      " [  3.33497980e-01   2.53194557e-01   0.00000000e+00   0.00000000e+00]\n",
      " [  2.49914292e-01   5.62106800e-01   0.00000000e+00   0.00000000e+00]\n",
      " [  2.76288565e-01   5.34874427e-01   0.00000000e+00   0.00000000e+00]\n",
      " [  1.35054957e-01   3.45744795e-01   0.00000000e+00   0.00000000e+00]\n",
      " [ -3.62922025e-01   9.15354982e-01   0.00000000e+00   0.00000000e+00]\n",
      " [ -4.59964883e-01   4.20361187e-01   0.00000000e+00   0.00000000e+00]\n",
      " [ -4.73901575e-01   4.67054692e-02   0.00000000e+00   0.00000000e+00]\n",
      " [ -1.71751747e-01   3.59724010e-01   0.00000000e+00   0.00000000e+00]\n",
      " [  3.19692563e-01   8.62294908e-01   0.00000000e+00   0.00000000e+00]\n",
      " [ -2.18698945e-01   2.30159044e-01   0.00000000e+00   0.00000000e+00]\n",
      " [  1.31511757e-01   5.43600310e-01   0.00000000e+00   0.00000000e+00]\n",
      " [ -1.98266598e-01   7.41605743e-01   0.00000000e+00   0.00000000e+00]\n",
      " [ -2.96677292e-01   4.54824208e-01   0.00000000e+00   0.00000000e+00]\n",
      " [  1.42609217e-01   4.78357841e-01   0.00000000e+00   0.00000000e+00]\n",
      " [  3.93546626e-01   4.10412873e-01   0.00000000e+00   0.00000000e+00]\n",
      " [ -7.98367082e-02   5.08714564e-01   0.00000000e+00   0.00000000e+00]\n",
      " [ -2.72365160e-01   3.13983399e-01   0.00000000e+00   0.00000000e+00]\n",
      " [ -1.74985717e-01   3.54545201e-01   0.00000000e+00   0.00000000e+00]\n",
      " [ -5.22906064e-02   3.73052565e-01   0.00000000e+00   0.00000000e+00]\n",
      " [  5.04422256e-01   4.49086486e-02   0.00000000e+00   0.00000000e+00]\n",
      " [ -5.12320008e-02   3.67874630e-01   0.00000000e+00   0.00000000e+00]\n",
      " [ -8.85737511e-01   6.97938254e-01   0.00000000e+00   0.00000000e+00]\n",
      " [ -3.40063596e-01   8.34580454e-01   0.00000000e+00   0.00000000e+00]\n",
      " [ -4.68305895e-01   9.21032786e-01   0.00000000e+00   0.00000000e+00]\n",
      " [ -6.12800829e-01   9.78122014e-01   0.00000000e+00   0.00000000e+00]\n",
      " [ -5.95434519e-01   8.78342876e-01   0.00000000e+00   0.00000000e+00]\n",
      " [ -6.94209152e-01   1.29739100e+00   0.00000000e+00   0.00000000e+00]\n",
      " [ -2.49038871e-01   7.61532947e-01   0.00000000e+00   0.00000000e+00]\n",
      " [ -6.57909247e-01   1.31334579e+00   0.00000000e+00   0.00000000e+00]\n",
      " [ -3.21748461e-01   1.35638302e+00   0.00000000e+00   0.00000000e+00]\n",
      " [ -8.15368494e-01   4.64624351e-01   0.00000000e+00   0.00000000e+00]\n",
      " [ -3.83495309e-01   3.79726610e-01   0.00000000e+00   0.00000000e+00]\n",
      " [ -2.39309246e-01   9.04502738e-01   0.00000000e+00   0.00000000e+00]\n",
      " [ -3.44383886e-01   7.07146218e-01   0.00000000e+00   0.00000000e+00]\n",
      " [ -1.55089405e-01   8.96698573e-01   0.00000000e+00   0.00000000e+00]\n",
      " [ -2.47090311e-01   5.99562041e-01   0.00000000e+00   0.00000000e+00]\n",
      " [ -4.40677369e-01   4.10008811e-01   0.00000000e+00   0.00000000e+00]\n",
      " [ -5.48037154e-01   8.29055190e-01   0.00000000e+00   0.00000000e+00]\n",
      " [ -1.20965636e+00   7.32626590e-01   0.00000000e+00   0.00000000e+00]\n",
      " [ -5.06282506e-01   1.69515562e+00   0.00000000e+00   0.00000000e+00]\n",
      " [ -8.27781003e-03   1.25297879e+00   0.00000000e+00   0.00000000e+00]\n",
      " [ -4.92281442e-01   6.07441601e-01   0.00000000e+00   0.00000000e+00]\n",
      " [ -3.30110609e-01   6.26369942e-01   0.00000000e+00   0.00000000e+00]\n",
      " [ -6.16567391e-01   1.52715783e+00   0.00000000e+00   0.00000000e+00]\n",
      " [ -7.47947563e-02   7.06571827e-01   0.00000000e+00   0.00000000e+00]\n",
      " [ -6.93704275e-01   6.15743013e-01   0.00000000e+00   0.00000000e+00]\n",
      " [ -7.16730996e-01   9.23733537e-01   0.00000000e+00   0.00000000e+00]\n",
      " [ -1.18507984e-01   5.82185670e-01   0.00000000e+00   0.00000000e+00]\n",
      " [ -3.44074657e-01   5.04111893e-01   0.00000000e+00   0.00000000e+00]\n",
      " [ -4.15811509e-01   9.45638057e-01   0.00000000e+00   0.00000000e+00]\n",
      " [ -5.32674473e-01   1.01521126e+00   0.00000000e+00   0.00000000e+00]\n",
      " [ -4.08171381e-01   1.22639708e+00   0.00000000e+00   0.00000000e+00]\n",
      " [ -1.02649015e+00   6.02066256e-01   0.00000000e+00   0.00000000e+00]\n",
      " [ -3.84086054e-01   9.13228621e-01   0.00000000e+00   0.00000000e+00]\n",
      " [ -3.51824565e-01   8.50112513e-01   0.00000000e+00   0.00000000e+00]\n",
      " [ -6.15058618e-01   1.34312724e+00   0.00000000e+00   0.00000000e+00]\n",
      " [ -3.04100635e-01   9.26136199e-01   0.00000000e+00   0.00000000e+00]\n",
      " [ -7.50718042e-01   4.18809217e-01   0.00000000e+00   0.00000000e+00]\n",
      " [ -6.49850110e-01   7.64310842e-01   0.00000000e+00   0.00000000e+00]\n",
      " [ -3.22133897e-01   4.52696974e-01   0.00000000e+00   0.00000000e+00]\n",
      " [ -3.15779179e-01   5.66306283e-01   0.00000000e+00   0.00000000e+00]\n",
      " [ -4.09120206e-01   6.04815372e-01   0.00000000e+00   0.00000000e+00]\n",
      " [ -7.80290856e-02   3.22561986e-01   0.00000000e+00   0.00000000e+00]\n",
      " [ -3.40063596e-01   8.34580454e-01   0.00000000e+00   0.00000000e+00]\n",
      " [ -6.44639866e-01   7.34952108e-01   0.00000000e+00   0.00000000e+00]\n",
      " [ -5.66802456e-01   4.86105272e-01   0.00000000e+00   0.00000000e+00]\n",
      " [ -1.42792761e-01   4.71628810e-01   0.00000000e+00   0.00000000e+00]\n",
      " [  3.01389471e-02   8.79746675e-01   0.00000000e+00   0.00000000e+00]\n",
      " [ -3.10287060e-01   5.85310893e-01   0.00000000e+00   0.00000000e+00]\n",
      " [ -7.02403009e-01   3.40161924e-01   0.00000000e+00   0.00000000e+00]\n",
      " [ -5.32592048e-01   6.39849289e-01   0.00000000e+00   0.00000000e+00]]\n"
     ]
    }
   ],
   "source": [
    "red_data = D.dot(norm_data.T).T\n",
    "print(red_data)"
   ]
  },
  {
   "cell_type": "code",
   "execution_count": 19,
   "metadata": {},
   "outputs": [
    {
     "name": "stdout",
     "output_type": "stream",
     "text": [
      "(150, 2)\n"
     ]
    }
   ],
   "source": [
    "red_data = red_data[:,:2]\n",
    "print(red_data.shape)"
   ]
  },
  {
   "cell_type": "code",
   "execution_count": 20,
   "metadata": {
    "collapsed": true
   },
   "outputs": [],
   "source": [
    "colours = ['red', 'black', 'yellow']"
   ]
  },
  {
   "cell_type": "code",
   "execution_count": 21,
   "metadata": {},
   "outputs": [
    {
     "data": {
      "image/png": "[encoded data removed]",
      "text/plain": [
       "<matplotlib.figure.Figure at 0x982d9d34a8>"
      ]
     },
     "metadata": {},
     "output_type": "display_data"
    }
   ],
   "source": [
    "for i in ny.arange(len(colours)):\n",
    "    plt.scatter(red_data[labels==i, 0], red_data[labels==i, 1],c=colours[i])"
   ]
  },
  {
   "cell_type": "code",
   "execution_count": null,
   "metadata": {
    "collapsed": true
   },
   "outputs": [],
   "source": []
  }
 ],
 "metadata": {
  "kernelspec": {
   "display_name": "Python 3",
   "language": "python",
   "name": "python3"
  },
  "language_info": {
   "codemirror_mode": {
    "name": "ipython",
    "version": 3
   },
   "file_extension": ".py",
   "mimetype": "text/x-python",
   "name": "python",
   "nbconvert_exporter": "python",
   "pygments_lexer": "ipython3",
   "version": "3.6.2"
  }
 },
 "nbformat": 4,
 "nbformat_minor": 1
}
