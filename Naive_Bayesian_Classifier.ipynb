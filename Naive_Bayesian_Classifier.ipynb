{
 "cells": [
  {
   "cell_type": "code",
   "execution_count": 3,
   "metadata": {},
   "outputs": [],
   "source": [
    "from sklearn import datasets\n",
    "from sklearn.preprocessing import StandardScaler\n",
    "from sklearn.cross_validation import train_test_split\n",
    "from sklearn.metrics.pairwise import euclidean_distances\n",
    "from sklearn.metrics import accuracy_score\n",
    "import numpy as ny\n",
    "from numpy import *\n",
    "from collections import Counter\n",
    "import matplotlib.pyplot as plt\n",
    "%matplotlib inline\n",
    "from sklearn import datasets\n",
    "from sklearn.preprocessing import MinMaxScaler\n",
    "\n",
    "\n",
    "def calculateProbability(x, mean, stdev):\n",
    "    exponent = math.exp(-(math.pow(x-mean,2)/(2*math.pow(stdev,2))))\n",
    "    return (1 / (math.sqrt(2*math.pi) * stdev)) * exponent\n",
    "\n",
    "def separateByClass(dataset,classes):\n",
    "    separated = {}\n",
    "    for i in range(len(dataset)):\n",
    "        curr_class = classes[i];\n",
    "        if (curr_class not in separated):\n",
    "            separated[curr_class] = []\n",
    "        separated[curr_class].append(dataset[i])\n",
    "    return separated\n",
    "\n",
    "from sklearn import datasets\n",
    "iris = datasets.load_iris()\n",
    "#print(iris)"
   ]
  },
  {
   "cell_type": "code",
   "execution_count": 5,
   "metadata": {},
   "outputs": [
    {
     "name": "stdout",
     "output_type": "stream",
     "text": [
      "Scaled data [[-0.90068117  1.03205722 -1.3412724  -1.31297673]\n",
      " [-1.14301691 -0.1249576  -1.3412724  -1.31297673]\n",
      " [-1.38535265  0.33784833 -1.39813811 -1.31297673]\n",
      " [-1.50652052  0.10644536 -1.2844067  -1.31297673]\n",
      " [-1.02184904  1.26346019 -1.3412724  -1.31297673]\n",
      " [-0.53717756  1.95766909 -1.17067529 -1.05003079]\n",
      " [-1.50652052  0.80065426 -1.3412724  -1.18150376]\n",
      " [-1.02184904  0.80065426 -1.2844067  -1.31297673]\n",
      " [-1.74885626 -0.35636057 -1.3412724  -1.31297673]\n",
      " [-1.14301691  0.10644536 -1.2844067  -1.4444497 ]]\n",
      "Norm data [[ 0.22222222  0.625       0.06779661  0.04166667]\n",
      " [ 0.16666667  0.41666667  0.06779661  0.04166667]\n",
      " [ 0.11111111  0.5         0.05084746  0.04166667]\n",
      " [ 0.08333333  0.45833333  0.08474576  0.04166667]\n",
      " [ 0.19444444  0.66666667  0.06779661  0.04166667]\n",
      " [ 0.30555556  0.79166667  0.11864407  0.125     ]\n",
      " [ 0.08333333  0.58333333  0.06779661  0.08333333]\n",
      " [ 0.19444444  0.58333333  0.08474576  0.04166667]\n",
      " [ 0.02777778  0.375       0.06779661  0.04166667]\n",
      " [ 0.16666667  0.45833333  0.08474576  0.        ]]\n"
     ]
    }
   ],
   "source": [
    "\n",
    "data = iris[\"data\"]\n",
    "labels = iris[\"target\"]\n",
    "\n",
    "scaler = StandardScaler()\n",
    "scaled_data = scaler.fit_transform(iris.data)\n",
    "print(\"Scaled data\",scaled_data[0:10,:])\n",
    "\n",
    "norm_data = MinMaxScaler().fit_transform(data)\n",
    "print(\"Norm data\",norm_data[0:10,:])"
   ]
  },
  {
   "cell_type": "code",
   "execution_count": null,
   "metadata": {},
   "outputs": [],
   "source": []
  },
  {
   "cell_type": "code",
   "execution_count": null,
   "metadata": {
    "collapsed": true
   },
   "outputs": [],
   "source": []
  }
 ],
 "metadata": {
  "kernelspec": {
   "display_name": "Python 3",
   "language": "python",
   "name": "python3"
  },
  "language_info": {
   "codemirror_mode": {
    "name": "ipython",
    "version": 3
   },
   "file_extension": ".py",
   "mimetype": "text/x-python",
   "name": "python",
   "nbconvert_exporter": "python",
   "pygments_lexer": "ipython3",
   "version": "3.6.2"
  }
 },
 "nbformat": 4,
 "nbformat_minor": 1
}
