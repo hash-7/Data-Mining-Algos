{
 "cells": [
  {
   "cell_type": "code",
   "execution_count": 25,
   "metadata": {
    "collapsed": true
   },
   "outputs": [],
   "source": [
    "from sklearn import datasets\n",
    "from sklearn.preprocessing import StandardScaler\n",
    "from sklearn.cross_validation import train_test_split\n",
    "from sklearn.metrics.pairwise import euclidean_distances\n",
    "from sklearn.metrics import accuracy_score\n",
    "import numpy as np\n",
    "import math\n",
    "import random\n",
    "import warnings\n",
    "from matplotlib import pyplot as plt\n",
    "%matplotlib inline\n",
    "from sklearn.preprocessing import MinMaxScaler"
   ]
  },
  {
   "cell_type": "markdown",
   "metadata": {},
   "source": [
    "<h2>Data Preprocessing </h2>"
   ]
  },
  {
   "cell_type": "code",
   "execution_count": 26,
   "metadata": {
    "collapsed": true
   },
   "outputs": [],
   "source": [
    "iris = datasets.load_iris()\n",
    "i_data = iris[\"data\"][:,:2]\n",
    "target = iris[\"target\"]\n",
    "\n",
    "# dicretisize target labels ,  target class : 0\n",
    "target = [0 if t == 0 else 1 for t in target]\n",
    "        \n",
    "data = MinMaxScaler().fit_transform(i_data)\n",
    "\n",
    "train_X, test_X, train_y, test_y = train_test_split(data, target, test_size = 0.25, random_state=33)\n",
    "N, M = X.shape"
   ]
  },
  {
   "cell_type": "markdown",
   "metadata": {},
   "source": [
    "<h2> Adaline Neural Net </h2>"
   ]
  },
  {
   "cell_type": "code",
   "execution_count": 27,
   "metadata": {
    "collapsed": true
   },
   "outputs": [],
   "source": [
    "class AdalineNN(object):\n",
    "    def __init__(self,epochs,learning_rate):\n",
    "        self.epochs = epochs\n",
    "        self.learning_rate = learning_rate\n",
    "        self.activation_function = lambda x : 1.0/(1.0 + np.exp(-x))\n",
    "        \n",
    "    def init_weights(self,data):\n",
    "        self.n_attributes = data.shape[1]\n",
    "        self.weights = np.array(random.sample(range(0, 100), self.n_attributes + 1))/100\n",
    "        self.weights = self.weights.reshape((1, self.n_attributes + 1))\n",
    "        self.weights[0][-1] = 1\n",
    "        print(self.weights)\n",
    "        \n",
    "    def predict_class(self, row):\n",
    "        h = 0\n",
    "        for j in range(0, len(row)):\n",
    "            h += row[j]*self.weights[0][j]\n",
    "        h += 1\n",
    "        g = self.activation_function(h)\n",
    "        return g\n",
    "    \n",
    "    def update_weights(self, t, g, row):\n",
    "        err = t - g\n",
    "        for i in range(0, len(row)):\n",
    "            error_term = self.learning_rate*err*row[i]\n",
    "            self.weights[0][i] += error_term\n",
    "        \n",
    "    def train(self, data, targets):\n",
    "        self.init_weights(data)\n",
    "        iters = 0\n",
    "        while(iters < self.epochs):\n",
    "            iters += 1\n",
    "            for i in range(0, len(data)):\n",
    "                g = self.predict_class(data[i])\n",
    "                self.update_weights(targets[i], g, data[i])\n",
    "        print(self.weights)\n",
    "    \n",
    "    def predict(self, data):\n",
    "        return [round(self.predict_class(row)) for row in data]"
   ]
  },
  {
   "cell_type": "code",
   "execution_count": 28,
   "metadata": {
    "collapsed": true
   },
   "outputs": [],
   "source": [
    "adnn = AdalineNN(epochs=20,learning_rate = 0.1)"
   ]
  },
  {
   "cell_type": "code",
   "execution_count": 29,
   "metadata": {},
   "outputs": [
    {
     "name": "stdout",
     "output_type": "stream",
     "text": [
      "[[ 0.83  0.06  1.  ]]\n",
      "[[ 7.04302338 -6.66444852  1.        ]]\n"
     ]
    }
   ],
   "source": [
    "adnn.train(train_X, train_y)"
   ]
  },
  {
   "cell_type": "code",
   "execution_count": 30,
   "metadata": {
    "collapsed": true
   },
   "outputs": [],
   "source": [
    "predictions = adnn.predict(test_X)"
   ]
  },
  {
   "cell_type": "code",
   "execution_count": 31,
   "metadata": {},
   "outputs": [
    {
     "data": {
      "text/plain": [
       "100.0"
      ]
     },
     "execution_count": 31,
     "metadata": {},
     "output_type": "execute_result"
    }
   ],
   "source": [
    "accuracy_score(predictions, test_y)*100"
   ]
  },
  {
   "cell_type": "code",
   "execution_count": null,
   "metadata": {
    "collapsed": true
   },
   "outputs": [],
   "source": []
  }
 ],
 "metadata": {
  "anaconda-cloud": {},
  "kernelspec": {
   "display_name": "Python 3",
   "language": "python",
   "name": "python3"
  },
  "language_info": {
   "codemirror_mode": {
    "name": "ipython",
    "version": 3
   },
   "file_extension": ".py",
   "mimetype": "text/x-python",
   "name": "python",
   "nbconvert_exporter": "python",
   "pygments_lexer": "ipython3",
   "version": "3.6.2"
  }
 },
 "nbformat": 4,
 "nbformat_minor": 1
}
