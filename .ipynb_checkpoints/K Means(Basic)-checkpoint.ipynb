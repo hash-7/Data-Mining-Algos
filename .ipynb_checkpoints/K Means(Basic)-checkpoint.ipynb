{
 "cells": [
  {
   "cell_type": "code",
   "execution_count": 61,
   "metadata": {},
   "outputs": [],
   "source": [
    "import os\n",
    "import numpy as ny\n",
    "from numpy import *\n",
    "from collections import Counter\n",
    "import matplotlib.pyplot as plt\n",
    "%matplotlib inline\n",
    "from sklearn import datasets\n",
    "from sklearn.preprocessing import MinMaxScaler # required to Z transform the data\n",
    "\n",
    "iris = datasets.load_iris()"
   ]
  },
  {
   "cell_type": "code",
   "execution_count": 83,
   "metadata": {},
   "outputs": [],
   "source": [
    "data = iris[\"data\"][:,:2] # slicing the dataset to get only the first two cols\n",
    "norm_data = MinMaxScaler().fit_transform(data)   # normalising the data"
   ]
  },
  {
   "cell_type": "code",
   "execution_count": 84,
   "metadata": {},
   "outputs": [
    {
     "name": "stdout",
     "output_type": "stream",
     "text": [
      "150 2\n"
     ]
    }
   ],
   "source": [
    "N, M = norm_data.shape\n",
    "print(N,M)"
   ]
  },
  {
   "cell_type": "code",
   "execution_count": 216,
   "metadata": {
    "collapsed": true
   },
   "outputs": [],
   "source": [
    "K = 3"
   ]
  },
  {
   "cell_type": "code",
   "execution_count": 217,
   "metadata": {
    "collapsed": true
   },
   "outputs": [],
   "source": [
    "assgns = ny.zeros((1, N))\n",
    "centers = ny.random.random((K, M))"
   ]
  },
  {
   "cell_type": "code",
   "execution_count": 218,
   "metadata": {},
   "outputs": [
    {
     "name": "stdout",
     "output_type": "stream",
     "text": [
      "[[ 0.32436921  0.19427696]\n",
      " [ 0.11111235  0.39117623]\n",
      " [ 0.45336133  0.03491203]]\n"
     ]
    }
   ],
   "source": [
    "print(centers)"
   ]
  },
  {
   "cell_type": "code",
   "execution_count": 219,
   "metadata": {},
   "outputs": [
    {
     "data": {
      "text/plain": [
       "array([ 0.32436921,  0.19427696])"
      ]
     },
     "execution_count": 219,
     "metadata": {},
     "output_type": "execute_result"
    }
   ],
   "source": [
    "centers[0,:]"
   ]
  },
  {
   "cell_type": "code",
   "execution_count": 220,
   "metadata": {},
   "outputs": [
    {
     "name": "stdout",
     "output_type": "stream",
     "text": [
      "Centers are  [[ 0.32436921  0.19427696]\n",
      " [ 0.11111235  0.39117623]\n",
      " [ 0.45336133  0.03491203]]\n",
      "\n",
      "\n",
      "Locs in update [ 50  51  52  53  54  55  56  57  58  59  60  61  63  64  65  66  67  69\n",
      "  70  71  73  74  75  77  78  79  80  81  82  83  86  88  89  90  91  92\n",
      "  93  94  95  96  97  98  99 100 101 103 104 106 109 110 111 112 113 114\n",
      " 115 116 117 120 121 123 124 125 126 127 128 131 132 133 134 136 137 138\n",
      " 139 140 141 142 143 144 145 147 148 149]\n",
      "Locs in update [ 0  1  2  3  4  5  6  7  8  9 10 11 12 13 14 15 16 17 18 19 20 21 22 23 24\n",
      " 25 26 27 28 29 30 31 32 33 34 35 36 37 38 39 40 41 42 43 44 45 46 47 48 49\n",
      " 84 85]\n",
      "Locs in update [ 62  68  72  76  87 102 105 107 108 118 119 122 129 130 135 146]\n",
      "Centers are  [[ 0.44656165  0.44656165]\n",
      " [ 0.39543269  0.39543269]\n",
      " [ 0.49435764  0.49435764]]\n",
      "\n",
      "\n",
      "Locs in update [  0   4  17  20  21  27  31  61  63  78  91  97 103 108 111 123 126 127\n",
      " 128 132 133 138 149]\n",
      "Locs in update [  1   2   3   6   7   8   9  11  12  13  22  23  24  25  26  28  29  30\n",
      "  34  35  37  38  39  40  41  42  43  45  47  49  53  55  57  59  60  62\n",
      "  64  66  67  68  69  71  72  73  79  80  81  82  83  84  87  88  89  90\n",
      "  92  93  94  95  96  98  99 101 106 113 114 119 121 134 142 146]\n",
      "Locs in update [  5  10  14  15  16  18  19  32  33  36  44  46  48  50  51  52  54  56\n",
      "  58  65  70  74  75  76  77  85  86 100 102 104 105 107 109 110 112 115\n",
      " 116 117 118 120 122 124 125 129 130 131 135 136 137 139 140 141 143 144\n",
      " 145 147 148]\n",
      "Centers are  [[ 0.44172705  0.44172705]\n",
      " [ 0.31646825  0.31646825]\n",
      " [ 0.57504873  0.57504873]]\n",
      "\n",
      "\n",
      "Locs in update [  0   4   7  10  17  19  20  21  23  26  27  28  31  36  39  40  43  44\n",
      "  46  48  54  58  61  63  66  70  71  72  73  74  78  83  88  91  95  96\n",
      "  97 103 108 111 123 126 127 128 132 133 138 146 149]\n",
      "Locs in update [  1   2   3   6   8   9  11  12  13  22  24  25  29  30  34  35  37  38\n",
      "  41  42  45  47  49  53  55  57  59  60  62  64  67  68  69  79  80  81\n",
      "  82  84  87  89  90  92  93  94  98  99 101 106 113 114 119 121 134 142]\n",
      "Locs in update [  5  14  15  16  18  32  33  50  51  52  56  65  75  76  77  85  86 100\n",
      " 102 104 105 107 109 110 112 115 116 117 118 120 122 124 125 129 130 131\n",
      " 135 136 137 139 140 141 143 144 145 147 148]\n",
      "Centers are  [[ 0.43608277  0.43608277]\n",
      " [ 0.29282407  0.29282407]\n",
      " [ 0.59382388  0.59382388]]\n",
      "\n",
      "\n",
      "Locs in update [  0   4   7  10  17  19  20  21  22  23  26  27  28  31  36  39  40  43\n",
      "  44  46  48  49  54  58  61  63  64  66  70  71  72  73  74  76  78  83\n",
      "  88  91  95  96  97 103 104 108 111 114 116 123 126 127 128 132 133 134\n",
      " 138 146 147 149]\n",
      "Locs in update [  1   2   3   6   8   9  11  12  13  24  25  29  30  34  35  37  38  41\n",
      "  42  45  47  53  55  57  59  60  62  67  68  69  79  80  81  82  84  87\n",
      "  89  90  92  93  94  98  99 101 106 113 119 121 142]\n",
      "Locs in update [  5  14  15  16  18  32  33  50  51  52  56  65  75  77  85  86 100 102\n",
      " 105 107 109 110 112 115 117 118 120 122 124 125 129 130 131 135 136 137\n",
      " 139 140 141 143 144 145 148]\n",
      "Centers are  [[ 0.43594349  0.43594349]\n",
      " [ 0.28472222  0.28472222]\n",
      " [ 0.60125969  0.60125969]]\n",
      "\n",
      "\n",
      "Locs in update [  0   4   7  10  11  17  19  20  21  22  23  24  26  27  28  31  36  39\n",
      "  40  43  44  46  48  49  54  55  58  61  63  64  66  70  71  72  73  74\n",
      "  76  78  83  84  88  91  95  96  97  99 103 104 108 111 114 116 123 126\n",
      " 127 128 132 133 134 138 146 147 149]\n",
      "Locs in update [  1   2   3   6   8   9  12  13  25  29  30  34  35  37  38  41  42  45\n",
      "  47  53  57  59  60  62  67  68  69  79  80  81  82  87  89  90  92  93\n",
      "  94  98 101 106 113 119 121 142]\n",
      "Locs in update [  5  14  15  16  18  32  33  50  51  52  56  65  75  77  85  86 100 102\n",
      " 105 107 109 110 112 115 117 118 120 122 124 125 129 130 131 135 136 137\n",
      " 139 140 141 143 144 145 148]\n",
      "Centers are  [[ 0.43000441  0.43000441]\n",
      " [ 0.27604167  0.27604167]\n",
      " [ 0.60125969  0.60125969]]\n",
      "\n",
      "\n",
      "Locs in update [  0   4   7  10  11  17  19  20  21  22  23  24  26  27  28  31  36  39\n",
      "  40  43  44  46  48  49  54  55  58  61  63  64  66  67  70  71  72  73\n",
      "  74  76  78  82  83  84  88  91  95  96  97  99 101 103 104 108 111 114\n",
      " 116 123 126 127 128 132 133 134 138 142 146 147 149]\n",
      "Locs in update [  1   2   3   6   8   9  12  13  25  29  30  34  35  37  38  41  42  45\n",
      "  47  53  57  59  60  62  68  69  79  80  81  87  89  90  92  93  94  98\n",
      " 106 113 119 121]\n",
      "Locs in update [  5  14  15  16  18  32  33  50  51  52  56  65  75  77  85  86 100 102\n",
      " 105 107 109 110 112 115 117 118 120 122 124 125 129 130 131 135 136 137\n",
      " 139 140 141 143 144 145 148]\n",
      "Centers are  [[ 0.42547678  0.42547678]\n",
      " [ 0.26822917  0.26822917]\n",
      " [ 0.60125969  0.60125969]]\n",
      "\n",
      "\n",
      "Locs in update [  0   4   7  10  11  17  19  20  21  22  23  24  26  27  28  31  35  36\n",
      "  39  40  43  44  46  48  49  54  55  58  61  63  64  66  67  70  71  72\n",
      "  73  74  78  82  83  84  88  91  95  96  97  99 101 103 108 111 114 121\n",
      " 123 126 127 128 132 133 134 138 142 146 149]\n",
      "Locs in update [  1   2   3   6   8   9  12  13  25  29  30  34  37  38  41  42  45  47\n",
      "  53  57  59  60  62  68  69  79  80  81  87  89  90  92  93  94  98 106\n",
      " 113 119]\n",
      "Locs in update [  5  14  15  16  18  32  33  50  51  52  56  65  75  76  77  85  86 100\n",
      " 102 104 105 107 109 110 112 115 116 117 118 120 122 124 125 129 130 131\n",
      " 135 136 137 139 140 141 143 144 145 147 148]\n",
      "Centers are  [[ 0.41762821  0.41762821]\n",
      " [ 0.26407164  0.26407164]\n",
      " [ 0.59382388  0.59382388]]\n",
      "\n",
      "\n",
      "Locs in update [  0   4   7  11  17  19  20  21  22  23  24  26  27  28  31  35  36  39\n",
      "  40  43  44  46  48  49  54  55  61  63  64  66  67  70  71  72  73  74\n",
      "  78  82  83  84  88  91  95  96  97  99 101 103 108 111 114 121 123 126\n",
      " 127 128 132 133 134 138 142 146 149]\n",
      "Locs in update [  1   2   3   6   8   9  12  13  25  29  30  34  37  38  41  42  45  47\n",
      "  53  57  59  60  62  68  69  79  80  81  87  89  90  92  93  94  98 106\n",
      " 113 119]\n",
      "Locs in update [  5  10  14  15  16  18  32  33  50  51  52  56  58  65  75  76  77  85\n",
      "  86 100 102 104 105 107 109 110 112 115 116 117 118 120 122 124 125 129\n",
      " 130 131 135 136 137 139 140 141 143 144 145 147 148]\n",
      "Centers are  [[ 0.41479277  0.41479277]\n",
      " [ 0.26407164  0.26407164]\n",
      " [ 0.59027778  0.59027778]]\n",
      "\n",
      "\n",
      "Locs in update [  0   4   7  11  17  19  20  21  22  23  24  26  27  28  31  35  36  39\n",
      "  40  43  44  46  48  49  54  55  61  63  64  66  67  70  71  72  73  74\n",
      "  78  82  83  84  87  88  91  95  96  97  99 101 103 108 111 114 121 123\n",
      " 126 127 128 132 133 134 138 142 146 149]\n",
      "Locs in update [  1   2   3   6   8   9  12  13  25  29  30  34  37  38  41  42  45  47\n",
      "  53  57  59  60  62  68  69  79  80  81  89  90  92  93  94  98 106 113\n",
      " 119]\n",
      "Locs in update [  5  10  14  15  16  18  32  33  50  51  52  56  58  65  75  76  77  85\n",
      "  86 100 102 104 105 107 109 110 112 115 116 117 118 120 122 124 125 129\n",
      " 130 131 135 136 137 139 140 141 143 144 145 147 148]\n",
      "Centers are  [[ 0.41362847  0.41362847]\n",
      " [ 0.26201201  0.26201201]\n",
      " [ 0.59027778  0.59027778]]\n",
      "\n",
      "\n",
      "Locs in update [  0   4   7  11  17  19  20  21  22  23  24  26  27  28  31  35  36  39\n",
      "  40  43  44  46  48  49  54  55  61  63  64  66  67  70  71  72  73  74\n",
      "  78  82  83  84  87  88  91  95  96  97  99 101 103 108 111 114 121 123\n",
      " 126 127 128 132 133 134 138 142 146 149]\n",
      "Locs in update [  1   2   3   6   8   9  12  13  25  29  30  34  37  38  41  42  45  47\n",
      "  53  57  59  60  62  68  69  79  80  81  89  90  92  93  94  98 106 113\n",
      " 119]\n",
      "Locs in update [  5  10  14  15  16  18  32  33  50  51  52  56  58  65  75  76  77  85\n",
      "  86 100 102 104 105 107 109 110 112 115 116 117 118 120 122 124 125 129\n",
      " 130 131 135 136 137 139 140 141 143 144 145 147 148]\n",
      "Centers are  [[ 0.41362847  0.41362847]\n",
      " [ 0.26201201  0.26201201]\n",
      " [ 0.59027778  0.59027778]]\n",
      "\n",
      "\n",
      "Locs in update [  0   4   7  11  17  19  20  21  22  23  24  26  27  28  31  35  36  39\n",
      "  40  43  44  46  48  49  54  55  61  63  64  66  67  70  71  72  73  74\n",
      "  78  82  83  84  87  88  91  95  96  97  99 101 103 108 111 114 121 123\n",
      " 126 127 128 132 133 134 138 142 146 149]\n",
      "Locs in update [  1   2   3   6   8   9  12  13  25  29  30  34  37  38  41  42  45  47\n",
      "  53  57  59  60  62  68  69  79  80  81  89  90  92  93  94  98 106 113\n",
      " 119]\n",
      "Locs in update [  5  10  14  15  16  18  32  33  50  51  52  56  58  65  75  76  77  85\n",
      "  86 100 102 104 105 107 109 110 112 115 116 117 118 120 122 124 125 129\n",
      " 130 131 135 136 137 139 140 141 143 144 145 147 148]\n",
      "Centers are  [[ 0.41362847  0.41362847]\n",
      " [ 0.26201201  0.26201201]\n",
      " [ 0.59027778  0.59027778]]\n",
      "\n",
      "\n",
      "Locs in update [  0   4   7  11  17  19  20  21  22  23  24  26  27  28  31  35  36  39\n",
      "  40  43  44  46  48  49  54  55  61  63  64  66  67  70  71  72  73  74\n",
      "  78  82  83  84  87  88  91  95  96  97  99 101 103 108 111 114 121 123\n",
      " 126 127 128 132 133 134 138 142 146 149]\n",
      "Locs in update [  1   2   3   6   8   9  12  13  25  29  30  34  37  38  41  42  45  47\n",
      "  53  57  59  60  62  68  69  79  80  81  89  90  92  93  94  98 106 113\n",
      " 119]\n",
      "Locs in update [  5  10  14  15  16  18  32  33  50  51  52  56  58  65  75  76  77  85\n",
      "  86 100 102 104 105 107 109 110 112 115 116 117 118 120 122 124 125 129\n",
      " 130 131 135 136 137 139 140 141 143 144 145 147 148]\n",
      "Centers are  [[ 0.41362847  0.41362847]\n",
      " [ 0.26201201  0.26201201]\n",
      " [ 0.59027778  0.59027778]]\n",
      "\n",
      "\n",
      "Locs in update [  0   4   7  11  17  19  20  21  22  23  24  26  27  28  31  35  36  39\n",
      "  40  43  44  46  48  49  54  55  61  63  64  66  67  70  71  72  73  74\n",
      "  78  82  83  84  87  88  91  95  96  97  99 101 103 108 111 114 121 123\n",
      " 126 127 128 132 133 134 138 142 146 149]\n",
      "Locs in update [  1   2   3   6   8   9  12  13  25  29  30  34  37  38  41  42  45  47\n",
      "  53  57  59  60  62  68  69  79  80  81  89  90  92  93  94  98 106 113\n",
      " 119]\n",
      "Locs in update [  5  10  14  15  16  18  32  33  50  51  52  56  58  65  75  76  77  85\n",
      "  86 100 102 104 105 107 109 110 112 115 116 117 118 120 122 124 125 129\n",
      " 130 131 135 136 137 139 140 141 143 144 145 147 148]\n",
      "Centers are  [[ 0.41362847  0.41362847]\n",
      " [ 0.26201201  0.26201201]\n",
      " [ 0.59027778  0.59027778]]\n",
      "\n",
      "\n",
      "Locs in update [  0   4   7  11  17  19  20  21  22  23  24  26  27  28  31  35  36  39\n",
      "  40  43  44  46  48  49  54  55  61  63  64  66  67  70  71  72  73  74\n",
      "  78  82  83  84  87  88  91  95  96  97  99 101 103 108 111 114 121 123\n",
      " 126 127 128 132 133 134 138 142 146 149]\n",
      "Locs in update [  1   2   3   6   8   9  12  13  25  29  30  34  37  38  41  42  45  47\n",
      "  53  57  59  60  62  68  69  79  80  81  89  90  92  93  94  98 106 113\n",
      " 119]\n",
      "Locs in update [  5  10  14  15  16  18  32  33  50  51  52  56  58  65  75  76  77  85\n",
      "  86 100 102 104 105 107 109 110 112 115 116 117 118 120 122 124 125 129\n",
      " 130 131 135 136 137 139 140 141 143 144 145 147 148]\n",
      "Centers are  [[ 0.41362847  0.41362847]\n",
      " [ 0.26201201  0.26201201]\n",
      " [ 0.59027778  0.59027778]]\n",
      "\n",
      "\n",
      "Locs in update [  0   4   7  11  17  19  20  21  22  23  24  26  27  28  31  35  36  39\n",
      "  40  43  44  46  48  49  54  55  61  63  64  66  67  70  71  72  73  74\n",
      "  78  82  83  84  87  88  91  95  96  97  99 101 103 108 111 114 121 123\n",
      " 126 127 128 132 133 134 138 142 146 149]\n",
      "Locs in update [  1   2   3   6   8   9  12  13  25  29  30  34  37  38  41  42  45  47\n",
      "  53  57  59  60  62  68  69  79  80  81  89  90  92  93  94  98 106 113\n",
      " 119]\n",
      "Locs in update [  5  10  14  15  16  18  32  33  50  51  52  56  58  65  75  76  77  85\n",
      "  86 100 102 104 105 107 109 110 112 115 116 117 118 120 122 124 125 129\n",
      " 130 131 135 136 137 139 140 141 143 144 145 147 148]\n",
      "Centers are  [[ 0.41362847  0.41362847]\n",
      " [ 0.26201201  0.26201201]\n",
      " [ 0.59027778  0.59027778]]\n",
      "\n",
      "\n",
      "Locs in update [  0   4   7  11  17  19  20  21  22  23  24  26  27  28  31  35  36  39\n",
      "  40  43  44  46  48  49  54  55  61  63  64  66  67  70  71  72  73  74\n",
      "  78  82  83  84  87  88  91  95  96  97  99 101 103 108 111 114 121 123\n",
      " 126 127 128 132 133 134 138 142 146 149]\n",
      "Locs in update [  1   2   3   6   8   9  12  13  25  29  30  34  37  38  41  42  45  47\n",
      "  53  57  59  60  62  68  69  79  80  81  89  90  92  93  94  98 106 113\n",
      " 119]\n",
      "Locs in update [  5  10  14  15  16  18  32  33  50  51  52  56  58  65  75  76  77  85\n",
      "  86 100 102 104 105 107 109 110 112 115 116 117 118 120 122 124 125 129\n",
      " 130 131 135 136 137 139 140 141 143 144 145 147 148]\n",
      "Centers are  [[ 0.41362847  0.41362847]\n",
      " [ 0.26201201  0.26201201]\n",
      " [ 0.59027778  0.59027778]]\n",
      "\n",
      "\n",
      "Locs in update [  0   4   7  11  17  19  20  21  22  23  24  26  27  28  31  35  36  39\n",
      "  40  43  44  46  48  49  54  55  61  63  64  66  67  70  71  72  73  74\n",
      "  78  82  83  84  87  88  91  95  96  97  99 101 103 108 111 114 121 123\n",
      " 126 127 128 132 133 134 138 142 146 149]\n",
      "Locs in update [  1   2   3   6   8   9  12  13  25  29  30  34  37  38  41  42  45  47\n",
      "  53  57  59  60  62  68  69  79  80  81  89  90  92  93  94  98 106 113\n",
      " 119]\n",
      "Locs in update [  5  10  14  15  16  18  32  33  50  51  52  56  58  65  75  76  77  85\n",
      "  86 100 102 104 105 107 109 110 112 115 116 117 118 120 122 124 125 129\n",
      " 130 131 135 136 137 139 140 141 143 144 145 147 148]\n",
      "Centers are  [[ 0.41362847  0.41362847]\n",
      " [ 0.26201201  0.26201201]\n",
      " [ 0.59027778  0.59027778]]\n",
      "\n",
      "\n",
      "Locs in update [  0   4   7  11  17  19  20  21  22  23  24  26  27  28  31  35  36  39\n",
      "  40  43  44  46  48  49  54  55  61  63  64  66  67  70  71  72  73  74\n",
      "  78  82  83  84  87  88  91  95  96  97  99 101 103 108 111 114 121 123\n",
      " 126 127 128 132 133 134 138 142 146 149]\n",
      "Locs in update [  1   2   3   6   8   9  12  13  25  29  30  34  37  38  41  42  45  47\n",
      "  53  57  59  60  62  68  69  79  80  81  89  90  92  93  94  98 106 113\n",
      " 119]\n",
      "Locs in update [  5  10  14  15  16  18  32  33  50  51  52  56  58  65  75  76  77  85\n",
      "  86 100 102 104 105 107 109 110 112 115 116 117 118 120 122 124 125 129\n",
      " 130 131 135 136 137 139 140 141 143 144 145 147 148]\n",
      "Centers are  [[ 0.41362847  0.41362847]\n",
      " [ 0.26201201  0.26201201]\n",
      " [ 0.59027778  0.59027778]]\n",
      "\n",
      "\n",
      "Locs in update [  0   4   7  11  17  19  20  21  22  23  24  26  27  28  31  35  36  39\n",
      "  40  43  44  46  48  49  54  55  61  63  64  66  67  70  71  72  73  74\n",
      "  78  82  83  84  87  88  91  95  96  97  99 101 103 108 111 114 121 123\n",
      " 126 127 128 132 133 134 138 142 146 149]\n",
      "Locs in update [  1   2   3   6   8   9  12  13  25  29  30  34  37  38  41  42  45  47\n",
      "  53  57  59  60  62  68  69  79  80  81  89  90  92  93  94  98 106 113\n",
      " 119]\n",
      "Locs in update [  5  10  14  15  16  18  32  33  50  51  52  56  58  65  75  76  77  85\n",
      "  86 100 102 104 105 107 109 110 112 115 116 117 118 120 122 124 125 129\n",
      " 130 131 135 136 137 139 140 141 143 144 145 147 148]\n",
      "Centers are  [[ 0.41362847  0.41362847]\n",
      " [ 0.26201201  0.26201201]\n",
      " [ 0.59027778  0.59027778]]\n",
      "\n",
      "\n",
      "Locs in update [  0   4   7  11  17  19  20  21  22  23  24  26  27  28  31  35  36  39\n",
      "  40  43  44  46  48  49  54  55  61  63  64  66  67  70  71  72  73  74\n",
      "  78  82  83  84  87  88  91  95  96  97  99 101 103 108 111 114 121 123\n",
      " 126 127 128 132 133 134 138 142 146 149]\n",
      "Locs in update [  1   2   3   6   8   9  12  13  25  29  30  34  37  38  41  42  45  47\n",
      "  53  57  59  60  62  68  69  79  80  81  89  90  92  93  94  98 106 113\n",
      " 119]\n",
      "Locs in update [  5  10  14  15  16  18  32  33  50  51  52  56  58  65  75  76  77  85\n",
      "  86 100 102 104 105 107 109 110 112 115 116 117 118 120 122 124 125 129\n",
      " 130 131 135 136 137 139 140 141 143 144 145 147 148]\n"
     ]
    }
   ],
   "source": [
    "\n",
    "for gen in ny.arange(20):\n",
    "    print(\"Centers are \",centers)\n",
    "    print(\"\\n\")\n",
    "    for p in ny.arange(N):\n",
    "        dists = ny.zeros((1, K))\n",
    "        for c in ny.arange(K):\n",
    "            dists[0,c] = ny.sqrt(ny.sum((norm_data[p,:] - centers[c,:])**2))\n",
    "        locs = ny.argsort(dists)\n",
    "        assgns[0, p] = locs[0,0]\n",
    "    #update centers\n",
    "    for c in ny.arange(K):\n",
    "        bins=ny.where(assgns == c)\n",
    "        print(\"Locs in update\",bins[1])\n",
    "        if len(bins[1])==0:\n",
    "            centers[c,:] = ny.mean(centers)\n",
    "        else:\n",
    "            centers[c, :] = ny.mean(norm_data[bins[1],:])"
   ]
  },
  {
   "cell_type": "code",
   "execution_count": 221,
   "metadata": {},
   "outputs": [
    {
     "data": {
      "text/plain": [
       "array([[ 0.,  1.,  1.,  1.,  0.,  2.,  1.,  0.,  1.,  1.,  2.,  0.,  1.,\n",
       "         1.,  2.,  2.,  2.,  0.,  2.,  0.,  0.,  0.,  0.,  0.,  0.,  1.,\n",
       "         0.,  0.,  0.,  1.,  1.,  0.,  2.,  2.,  1.,  0.,  0.,  1.,  1.,\n",
       "         0.,  0.,  1.,  1.,  0.,  0.,  1.,  0.,  1.,  0.,  0.,  2.,  2.,\n",
       "         2.,  1.,  0.,  0.,  2.,  1.,  2.,  1.,  1.,  0.,  1.,  0.,  0.,\n",
       "         2.,  0.,  0.,  1.,  1.,  0.,  0.,  0.,  0.,  0.,  2.,  2.,  2.,\n",
       "         0.,  1.,  1.,  1.,  0.,  0.,  0.,  2.,  2.,  0.,  0.,  1.,  1.,\n",
       "         0.,  1.,  1.,  1.,  0.,  0.,  0.,  1.,  0.,  2.,  0.,  2.,  0.,\n",
       "         2.,  2.,  1.,  2.,  0.,  2.,  2.,  0.,  2.,  1.,  0.,  2.,  2.,\n",
       "         2.,  2.,  1.,  2.,  0.,  2.,  0.,  2.,  2.,  0.,  0.,  0.,  2.,\n",
       "         2.,  2.,  0.,  0.,  0.,  2.,  2.,  2.,  0.,  2.,  2.,  2.,  0.,\n",
       "         2.,  2.,  2.,  0.,  2.,  2.,  0.]])"
      ]
     },
     "execution_count": 221,
     "metadata": {},
     "output_type": "execute_result"
    }
   ],
   "source": [
    "assgns"
   ]
  },
  {
   "cell_type": "code",
   "execution_count": 222,
   "metadata": {},
   "outputs": [
    {
     "data": {
      "image/png": "[encoded data removed]",
      "text/plain": [
       "<matplotlib.figure.Figure at 0xb17cbdd2e8>"
      ]
     },
     "metadata": {},
     "output_type": "display_data"
    }
   ],
   "source": [
    "for c in ny.arange(K):\n",
    "    bins=ny.where(assgns == c)\n",
    "    if c == 0:\n",
    "        plt.scatter(norm_data[bins[1],0] ,norm_data[bins[1],1],marker='^',color = \"red\")\n",
    "    elif c==1:\n",
    "        plt.scatter(norm_data[bins[1],0],norm_data[bins[1],1],marker='*',color = \"green\")\n",
    "    else:\n",
    "        plt.scatter(norm_data[bins[1],0],norm_data[bins[1],1],marker='h',color = \"black\")"
   ]
  },
  {
   "cell_type": "code",
   "execution_count": 223,
   "metadata": {},
   "outputs": [
    {
     "data": {
      "text/plain": [
       "(array([0, 0, 0, 0, 0, 0, 0, 0, 0, 0, 0, 0, 0, 0, 0, 0, 0, 0, 0, 0, 0, 0, 0,\n",
       "        0, 0, 0, 0, 0, 0, 0, 0, 0, 0, 0, 0, 0, 0, 0, 0, 0, 0, 0, 0, 0, 0, 0,\n",
       "        0, 0, 0], dtype=int64),\n",
       " array([  5,  10,  14,  15,  16,  18,  32,  33,  50,  51,  52,  56,  58,\n",
       "         65,  75,  76,  77,  85,  86, 100, 102, 104, 105, 107, 109, 110,\n",
       "        112, 115, 116, 117, 118, 120, 122, 124, 125, 129, 130, 131, 135,\n",
       "        136, 137, 139, 140, 141, 143, 144, 145, 147, 148], dtype=int64))"
      ]
     },
     "execution_count": 223,
     "metadata": {},
     "output_type": "execute_result"
    }
   ],
   "source": []
  },
  {
   "cell_type": "code",
   "execution_count": null,
   "metadata": {
    "collapsed": true
   },
   "outputs": [],
   "source": []
  }
 ],
 "metadata": {
  "anaconda-cloud": {},
  "kernelspec": {
   "display_name": "Python 3",
   "language": "python",
   "name": "python3"
  },
  "language_info": {
   "codemirror_mode": {
    "name": "ipython",
    "version": 3
   },
   "file_extension": ".py",
   "mimetype": "text/x-python",
   "name": "python",
   "nbconvert_exporter": "python",
   "pygments_lexer": "ipython3",
   "version": "3.6.2"
  }
 },
 "nbformat": 4,
 "nbformat_minor": 1
}
